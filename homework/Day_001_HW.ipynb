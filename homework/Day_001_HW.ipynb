{
 "cells": [
  {
   "cell_type": "markdown",
   "metadata": {},
   "source": [
    "## 練習時間\n",
    "#### 請寫一個函式用來計算 Mean Square Error\n",
    "$ MSE = \\frac{1}{n}\\sum_{i=1}^{n}{(Y_i - \\hat{Y}_i)^2} $\n",
    "\n",
    "### Hint: [如何取平方](https://googoodesign.gitbooks.io/-ezpython/unit-1.html)"
   ]
  },
  {
   "cell_type": "markdown",
   "metadata": {},
   "source": [
    "# [作業目標]\n",
    "- 仿造範例的MAE函數, 自己寫一個MSE函數(參考上面公式)"
   ]
  },
  {
   "cell_type": "markdown",
   "metadata": {},
   "source": [
    "# [作業重點]\n",
    "- 注意程式的縮排\n",
    "- 是否能將數學公式, 轉換為 Python 的函式組合? (In[2], Out[2])"
   ]
  },
  {
   "cell_type": "code",
   "execution_count": null,
   "metadata": {
    "collapsed": true
   },
   "outputs": [],
   "source": [
    "# 載入基礎套件與代稱\n",
    "import numpy as np\n",
    "import matplotlib.pyplot as plt"
   ]
  },
  {
   "cell_type": "code",
   "execution_count": null,
   "metadata": {
    "collapsed": true
   },
   "outputs": [],
   "source": [
    "def mean_absolute_error(y, yp):\n",
    "    \"\"\"\n",
    "    計算 MAE\n",
    "    Args:\n",
    "        - y: 實際值\n",
    "        - yp: 預測值\n",
    "    Return:\n",
    "        - mae: MAE\n",
    "    \"\"\"\n",
    "    mae = MAE = sum(abs(y - yp)) / len(y)\n",
    "    return mae\n",
    "\n",
    "# 定義 mean_squared_error 這個函數, 計算並傳回 MSE\n",
    "def mean_squared_error():\n",
    "    \"\"\"\n",
    "    請完成這個 Function 後往下執行\n",
    "    \"\"\""
   ]
  },
  {
   "cell_type": "code",
   "execution_count": null,
   "metadata": {
    "collapsed": true
   },
   "outputs": [],
   "source": [
    "# 與範例相同, 不另外解說\n",
    "w = 3\n",
    "b = 0.5\n",
    "x_lin = np.linspace(0, 100, 101)\n",
    "y = (x_lin + np.random.randn(101) * 5) * w + b\n",
    "\n",
    "plt.plot(x_lin, y, 'b.', label = 'data points')\n",
    "plt.title(\"Assume we have data points\")\n",
    "plt.legend(loc = 2)\n",
    "plt.show()"
   ]
  },
  {
   "cell_type": "code",
   "execution_count": null,
   "metadata": {
    "collapsed": true
   },
   "outputs": [],
   "source": [
    "# 與範例相同, 不另外解說\n",
    "y_hat = x_lin * w + b\n",
    "plt.plot(x_lin, y, 'b.', label = 'data')\n",
    "plt.plot(x_lin, y_hat, 'r-', label = 'prediction')\n",
    "plt.title(\"Assume we have data points (And the prediction)\")\n",
    "plt.legend(loc = 2)\n",
    "plt.show()"
   ]
  },
  {
   "cell_type": "code",
   "execution_count": null,
   "metadata": {
    "collapsed": true
   },
   "outputs": [],
   "source": [
    "# 執行 Function, 確認有沒有正常執行\n",
    "MSE = mean_squared_error(y, y_hat)\n",
    "MAE = mean_absolute_error(y, y_hat)\n",
    "print(\"The Mean squared error is %.3f\" % (MSE))\n",
    "print(\"The Mean absolute error is %.3f\" % (MAE))"
   ]
  },
  {
   "cell_type": "markdown",
   "metadata": {},
   "source": [
    "# [作業2]\n",
    "\n",
    "請上 Kaggle, 在 Competitions 或 Dataset 中找一組競賽或資料並寫下：\n",
    "\n",
    "1. 你選的這組資料為何重要\n",
    "\n",
    "2. 資料從何而來 (tips: 譬如提供者是誰、以什麼方式蒐集)\n",
    "\n",
    "3. 蒐集而來的資料型態為何\n",
    "\n",
    "4. 這組資料想解決的問題如何評估\n",
    "\n",
    "# [作業3]\n",
    "\n",
    "想像你經營一個自由載客車隊，你希望能透過數據分析以提升業績，請你思考並描述你如何規劃整體的分析/解決方案：\n",
    "\n",
    "1. 核心問題為何 (tips：如何定義 「提升業績 & 你的假設」)\n",
    "\n",
    "2. 資料從何而來 (tips：哪些資料可能會對你想問的問題產生影響 & 資料如何蒐集)\n",
    "\n",
    "3. 蒐集而來的資料型態為何\n",
    "\n",
    "4. 你要回答的問題，其如何評估 (tips：你的假設如何驗證)"
 ]
  },
  {
   "cell_type": "markdown",
   "metadata": {},
   "source": [
    "#2\n",
    "Dataset: Shopify app store\n",
    "https://www.kaggle.com/usernam3/shopify-app-store\n",
    "\n",
    "1. 了解使用Shopify聽音樂有哪些分類主流以及付費狀況\n",
    "2. 資料來源：\n",
    "    https://www.kaggle.com/usernam3/shopify-app-store#apps_categories.csv\n",
    "    https://www.kaggle.com/usernam3/shopify-app-store#pricing_plans.csv\n",
    "3. 資料型態：\n",
    "    結構化資料\n",
    "\n",
    "4. 針對主流分類設計適合的價格規劃或廣告投放。"
 ]
  },
  {
   "cell_type": "markdown",
   "metadata": {},
   "source": [
    "#3\n",
    "1. 提升業績與假設\n",
    "    - 載客分類：\n",
    "        - 臨時載客\n",
    "        - 預約載客\n",
    "    - 車輛配置與次數\n"
    "        - 區域車輛數\n",
    "        - 長短程次數\n",
    "    - 假設：\n",
    "        - 1.區域車輛數與載客分類配置調整是否可提高業績\n",
    "        - 2.長程載客次數與區域車輛數重分配是否可提高業績\n",
    "    \n",
    "2. 資料來源：\n",
    "    - 載客車隊的司機基本資料\n",
    "    - 載客系統的系統紀錄\n",
    "    - 載客車隊的載客紀錄\n",
    "    - 客人的基本資料\n",
    "    - 當地天氣\n",
    "    \n",
    "3. 結構化資料\n",
    "    - 日期時間\n",
    "    - 天氣(晴/陰/雨)\n",
    "    - 司機資料\n",
    "    - 客人資料\n",
    "    - 客人出發地址\n",
    "    - 客人到達地址\n",
    "    - 載客時間\n",
    "    - 載客人數\n",
    "    - 行車距離\n",
    "    - 收取費用\n",
    "    - 付款方式\n",
    "    - 車型款式\n",
    "    - 客人滿意度(0 ~ 5)\n",
    "    - 是否回頭客(Y/N)\n",
    "    - 是否利用快速道路(Y/N)\n",
    "\n",
    "4. 找出車隊預約載客區域分佈與搭乘模式 \n",
    "    - 利用載客紀錄找出：\n",
    "       - 預約載客出發地\n",
    "       - 預約載客目的地\n",
    "       - 預約載客出發時間\n",
    "       - 預約載客收費模式\n",
    "   - 重新分類區域內服務車輛\n",
    "       - 提高搭乘次數\n",
    "       - 減少等候時間\n",
    "       - 增加預約客人\n"
   ]
  }
 ],
 "metadata": {
  "anaconda-cloud": {},
  "kernelspec": {
   "display_name": "Python 3",
   "language": "python",
   "name": "python3"
  },
  "language_info": {
   "codemirror_mode": {
    "name": "ipython",
    "version": 3
   },
   "file_extension": ".py",
   "mimetype": "text/x-python",
   "name": "python",
   "nbconvert_exporter": "python",
   "pygments_lexer": "ipython3",
   "version": "3.7.0"
  }
 },
 "nbformat": 4,
 "nbformat_minor": 1
}
